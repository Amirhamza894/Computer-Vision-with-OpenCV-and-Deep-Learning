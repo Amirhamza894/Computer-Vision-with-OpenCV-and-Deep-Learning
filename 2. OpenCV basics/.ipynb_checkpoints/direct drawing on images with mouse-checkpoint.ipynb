{
 "cells": [
  {
   "cell_type": "code",
   "execution_count": 4,
   "id": "d1dd4d4d",
   "metadata": {},
   "outputs": [],
   "source": [
    "import cv2\n",
    "import numpy as np\n",
    "\n",
    "\n",
    "\n",
    "################\n",
    "### Function ###\n",
    "################\n",
    "\n",
    "def draw_circle(event, x, y, flags, param):\n",
    "    if event == cv2.EVENT_LBUTTONDOWN:\n",
    "        cv2.circle(img, (x,y), radius=100, color=(0,200,0), thickness=2)\n",
    "cv2.namedWindow(winname='my Drawing')\n",
    "\n",
    "cv2.setMouseCallback('my Drawing', draw_circle)\n",
    "\n",
    "#####################################\n",
    "##### SHOWING IMAGE WITH OPENCV #####\n",
    "#####################################\n",
    "\n",
    "img = np.zeros(shape=(512,512,3), dtype=np.int8)\n",
    "\n",
    "while True:\n",
    "    cv2.imshow('my Drawing', img)\n",
    "    \n",
    "    if cv2.waitKey(20) & 0xFF == 27:\n",
    "        break\n",
    "        \n",
    "cv2.destroyAllWindows()"
   ]
  },
  {
   "cell_type": "code",
   "execution_count": null,
   "id": "422b5d50",
   "metadata": {},
   "outputs": [],
   "source": []
  }
 ],
 "metadata": {
  "kernelspec": {
   "display_name": "Python 3",
   "language": "python",
   "name": "python3"
  },
  "language_info": {
   "codemirror_mode": {
    "name": "ipython",
    "version": 3
   },
   "file_extension": ".py",
   "mimetype": "text/x-python",
   "name": "python",
   "nbconvert_exporter": "python",
   "pygments_lexer": "ipython3",
   "version": "3.8.8"
  }
 },
 "nbformat": 4,
 "nbformat_minor": 5
}
