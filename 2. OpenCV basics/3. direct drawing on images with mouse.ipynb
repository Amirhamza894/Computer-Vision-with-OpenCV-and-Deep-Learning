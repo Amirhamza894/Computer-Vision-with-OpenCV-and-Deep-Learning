{
 "cells": [
  {
   "cell_type": "markdown",
   "id": "77f292e7",
   "metadata": {},
   "source": [
    "### Part One"
   ]
  },
  {
   "cell_type": "code",
   "execution_count": 6,
   "id": "1c6252fc",
   "metadata": {},
   "outputs": [],
   "source": [
    "import cv2\n",
    "import numpy as np\n",
    "\n",
    "\n",
    "\n",
    "################\n",
    "### Function ###\n",
    "################\n",
    "\n",
    "def draw_circle(event, x, y, flags, param):\n",
    "    if event == cv2.EVENT_LBUTTONDOWN:\n",
    "        cv2.circle(img, (x,y), radius=100, color=(0,200,0), thickness=2)\n",
    "    elif event == cv2.EVENT_RBUTTONDOWN:\n",
    "        cv2.circle(img, (x,y), radius=100, color=(200,0,0), thickness=2)\n",
    "cv2.namedWindow(winname='my Drawing')\n",
    "\n",
    "cv2.setMouseCallback('my Drawing', draw_circle)\n",
    "\n",
    "#####################################\n",
    "##### SHOWING IMAGE WITH OPENCV #####\n",
    "#####################################\n",
    "\n",
    "img = np.zeros(shape=(512,512,3))\n",
    "\n",
    "while True:\n",
    "    cv2.imshow('my Drawing', img)\n",
    "    \n",
    "    if cv2.waitKey(20) & 0xFF == 27:\n",
    "        break\n",
    "        \n",
    "cv2.destroyAllWindows()"
   ]
  },
  {
   "cell_type": "markdown",
   "id": "7ed1a52a",
   "metadata": {},
   "source": [
    "### Part Two"
   ]
  },
  {
   "cell_type": "code",
   "execution_count": 13,
   "id": "c0eb6a51",
   "metadata": {},
   "outputs": [],
   "source": [
    "import cv2\n",
    "import numpy as np\n",
    "\n",
    "\n",
    "# Variables\n",
    "drawing = False # true while mouse button down, false while mouse button UP\n",
    "ix, iy = -1, -1\n",
    "\n",
    "# Function\n",
    "def draw_rectangle(event, x, y, flags, params):\n",
    "    \n",
    "    global ix, iy, drawing\n",
    "    \n",
    "    if event == cv2.EVENT_LBUTTONDOWN:\n",
    "        drawing = True\n",
    "        ix,iy = x,y\n",
    "    elif event == cv2.EVENT_MOUSEMOVE:\n",
    "        if drawing == True:\n",
    "            cv2.rectangle(img, (ix,iy), (x, y), color=(198, 200, 186), thickness=2)\n",
    "\n",
    "    elif event == cv2.EVENT_LBUTTONUP:\n",
    "        drawing = False\n",
    "        cv2.rectangle(img, (ix,iy), (x, y), color=(198, 200, 186), thickness=-1)\n",
    "# SHowing image\n",
    "img = np.zeros(shape=(512,512,3))\n",
    "\n",
    "cv2.namedWindow(winname='my Drawing')\n",
    "\n",
    "\n",
    "cv2.setMouseCallback('my Drawing', draw_rectangle)\n",
    "\n",
    "\n",
    "while True:\n",
    "    cv2.imshow('my Drawing', img)\n",
    "    \n",
    "    if cv2.waitKey(20) & 0xFF == 27:\n",
    "        break\n",
    "    \n",
    "cv2.destroyAllWindows()"
   ]
  },
  {
   "cell_type": "code",
   "execution_count": null,
   "id": "b0a9275a",
   "metadata": {},
   "outputs": [],
   "source": []
  }
 ],
 "metadata": {
  "kernelspec": {
   "display_name": "Python 3",
   "language": "python",
   "name": "python3"
  },
  "language_info": {
   "codemirror_mode": {
    "name": "ipython",
    "version": 3
   },
   "file_extension": ".py",
   "mimetype": "text/x-python",
   "name": "python",
   "nbconvert_exporter": "python",
   "pygments_lexer": "ipython3",
   "version": "3.8.8"
  }
 },
 "nbformat": 4,
 "nbformat_minor": 5
}
